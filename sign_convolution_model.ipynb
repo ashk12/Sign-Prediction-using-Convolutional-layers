{
 "cells": [
  {
   "cell_type": "code",
   "execution_count": 16,
   "metadata": {},
   "outputs": [],
   "source": [
    "import numpy as np\n",
    "import tensorflow as tf\n",
    "from keras import layers\n",
    "from keras.layers import Input,Dense,Activation,ZeroPadding2D,BatchNormalization,Flatten,Conv2D\n",
    "from keras.layers import AveragePooling2D,MaxPooling2D,Dropout,GlobalMaxPooling2D,GlobalMaxPooling2D\n",
    "from keras.models import Model\n",
    "from keras.preprocessing import image\n",
    "from keras.utils import layer_utils\n",
    "from keras.utils.data_utils import get_file\n",
    "from keras.applications.imagenet_utils import preprocess_input\n",
    "from IPython.display import SVG\n",
    "from keras.utils.vis_utils import model_to_dot\n",
    "from keras.utils import plot_model\n",
    "import keras.backend as K\n",
    "K.set_image_data_format('channels_last')\n",
    "import matplotlib.pyplot as plt\n",
    "from matplotlib.pyplot import imshow\n",
    "import h5py\n",
    "\n",
    "%matplotlib inline"
   ]
  },
  {
   "cell_type": "code",
   "execution_count": 17,
   "metadata": {},
   "outputs": [],
   "source": [
    "def load_dataset():\n",
    "    train_dataset = h5py.File('train_signs.h5', \"r\")\n",
    "    train_set_x_orig = np.array(train_dataset[\"train_set_x\"][:]) # your train set features\n",
    "    train_set_y_orig = np.array(train_dataset[\"train_set_y\"][:]) # your train set labels\n",
    "\n",
    "    test_dataset = h5py.File('test_signs.h5', \"r\")\n",
    "    test_set_x_orig = np.array(test_dataset[\"test_set_x\"][:]) # your test set features\n",
    "    test_set_y_orig = np.array(test_dataset[\"test_set_y\"][:]) # your test set labels\n",
    "\n",
    "    classes = np.array(test_dataset[\"list_classes\"][:]) # the list of classes\n",
    "    \n",
    "    train_set_y_orig = train_set_y_orig.reshape((1, train_set_y_orig.shape[0]))\n",
    "    test_set_y_orig = test_set_y_orig.reshape((1, test_set_y_orig.shape[0]))\n",
    "    \n",
    "    return train_set_x_orig, train_set_y_orig, test_set_x_orig, test_set_y_orig, classes"
   ]
  },
  {
   "cell_type": "code",
   "execution_count": 18,
   "metadata": {},
   "outputs": [],
   "source": [
    "X_train,y_train,X_test,y_test,classes = load_dataset()"
   ]
  },
  {
   "cell_type": "code",
   "execution_count": 19,
   "metadata": {},
   "outputs": [],
   "source": [
    "def convert_to_one_hot(Y, C):\n",
    "    Y = np.eye(C)[Y.reshape(-1)].T\n",
    "    return Y"
   ]
  },
  {
   "cell_type": "code",
   "execution_count": 20,
   "metadata": {},
   "outputs": [
    {
     "name": "stdout",
     "output_type": "stream",
     "text": [
      "number of training examples = 1080\n",
      "number of test examples = 120\n",
      "X_train shape: (1080, 64, 64, 3)\n",
      "Y_train shape: (1080, 6)\n",
      "X_test shape: (120, 64, 64, 3)\n",
      "Y_test shape: (120, 6)\n"
     ]
    }
   ],
   "source": [
    "X_train = X_train/255.\n",
    "X_test = X_test/255.\n",
    "y_train = convert_to_one_hot(y_train,6).T\n",
    "y_test = convert_to_one_hot(y_test,6).T\n",
    "\n",
    "print (\"number of training examples = \" + str(X_train.shape[0]))\n",
    "print (\"number of test examples = \" + str(X_test.shape[0]))\n",
    "print (\"X_train shape: \" + str(X_train.shape))\n",
    "print (\"Y_train shape: \" + str(y_train.shape))\n",
    "print (\"X_test shape: \" + str(X_test.shape))\n",
    "print (\"Y_test shape: \" + str(y_test.shape))"
   ]
  },
  {
   "cell_type": "code",
   "execution_count": 7,
   "metadata": {},
   "outputs": [],
   "source": [
    "def sign_model(input_shape):\n",
    "    X_input = Input(input_shape)\n",
    "    X = ZeroPadding2D((3,3))(X_input)\n",
    "    \n",
    "    X = Conv2D(1,(8,8),strides=(2,2))(X)\n",
    "    X = BatchNormalization(axis=3)(X)\n",
    "    X = Activation('relu')(X)\n",
    "    \n",
    "    X = Conv2D(16,(5,5),strides=(1,1))(X)\n",
    "    X = BatchNormalization(axis=3)(X)\n",
    "    X = Activation('relu')(X)\n",
    "    \n",
    "    X = AveragePooling2D((2,2))(X)\n",
    "    \n",
    "    X = Conv2D(16,(5,5),strides=(1,1))(X)\n",
    "    X = BatchNormalization(axis=3)(X)\n",
    "    X = Activation('relu')(X)\n",
    "    \n",
    "    X = AveragePooling2D((2,2))(X)\n",
    "    \n",
    "    X = Flatten()(X)\n",
    "    X = Dropout(0.5)(X)\n",
    "    X = Dense(120,activation = 'relu')(X)\n",
    "    X = Dense(84,activation = 'relu')(X)\n",
    "    X = Dense(6,activation = 'softmax')(X)\n",
    "    model = Model(inputs = X_input , outputs=X , name='sign_model')\n",
    "    return model"
   ]
  },
  {
   "cell_type": "code",
   "execution_count": 22,
   "metadata": {},
   "outputs": [],
   "source": [
    "model = sign_model(X_train.shape[1:])"
   ]
  },
  {
   "cell_type": "code",
   "execution_count": 23,
   "metadata": {},
   "outputs": [],
   "source": [
    "model.compile(optimizer=tf.keras.optimizers.Adam(), loss=tf.keras.losses.CategoricalCrossentropy(),metrics = ['accuracy'])"
   ]
  },
  {
   "cell_type": "code",
   "execution_count": 24,
   "metadata": {},
   "outputs": [
    {
     "name": "stdout",
     "output_type": "stream",
     "text": [
      "Epoch 1/40\n",
      "22/22 [==============================] - 1s 50ms/step - loss: 1.7897 - accuracy: 0.2444\n",
      "Epoch 2/40\n",
      "22/22 [==============================] - 1s 50ms/step - loss: 1.4432 - accuracy: 0.4176\n",
      "Epoch 3/40\n",
      "22/22 [==============================] - 1s 50ms/step - loss: 1.1840 - accuracy: 0.5685\n",
      "Epoch 4/40\n",
      "22/22 [==============================] - 1s 50ms/step - loss: 0.9731 - accuracy: 0.6352\n",
      "Epoch 5/40\n",
      "22/22 [==============================] - 1s 50ms/step - loss: 0.8120 - accuracy: 0.6944\n",
      "Epoch 6/40\n",
      "22/22 [==============================] - 1s 50ms/step - loss: 0.7148 - accuracy: 0.7380\n",
      "Epoch 7/40\n",
      "22/22 [==============================] - 1s 50ms/step - loss: 0.6473 - accuracy: 0.7704\n",
      "Epoch 8/40\n",
      "22/22 [==============================] - 1s 50ms/step - loss: 0.5680 - accuracy: 0.8120\n",
      "Epoch 9/40\n",
      "22/22 [==============================] - 1s 50ms/step - loss: 0.5005 - accuracy: 0.8139\n",
      "Epoch 10/40\n",
      "22/22 [==============================] - 1s 50ms/step - loss: 0.4927 - accuracy: 0.8222\n",
      "Epoch 11/40\n",
      "22/22 [==============================] - 1s 50ms/step - loss: 0.4168 - accuracy: 0.8620\n",
      "Epoch 12/40\n",
      "22/22 [==============================] - 1s 50ms/step - loss: 0.4187 - accuracy: 0.8528\n",
      "Epoch 13/40\n",
      "22/22 [==============================] - 1s 51ms/step - loss: 0.3931 - accuracy: 0.8685\n",
      "Epoch 14/40\n",
      "22/22 [==============================] - 1s 50ms/step - loss: 0.3241 - accuracy: 0.8852\n",
      "Epoch 15/40\n",
      "22/22 [==============================] - 1s 53ms/step - loss: 0.3029 - accuracy: 0.9000\n",
      "Epoch 16/40\n",
      "22/22 [==============================] - 1s 52ms/step - loss: 0.2749 - accuracy: 0.9083\n",
      "Epoch 17/40\n",
      "22/22 [==============================] - 1s 50ms/step - loss: 0.2740 - accuracy: 0.8991\n",
      "Epoch 18/40\n",
      "22/22 [==============================] - 1s 55ms/step - loss: 0.3530 - accuracy: 0.8574\n",
      "Epoch 19/40\n",
      "22/22 [==============================] - 1s 52ms/step - loss: 0.2675 - accuracy: 0.9102\n",
      "Epoch 20/40\n",
      "22/22 [==============================] - 1s 54ms/step - loss: 0.2126 - accuracy: 0.9287\n",
      "Epoch 21/40\n",
      "22/22 [==============================] - 1s 51ms/step - loss: 0.2127 - accuracy: 0.9120\n",
      "Epoch 22/40\n",
      "22/22 [==============================] - 1s 50ms/step - loss: 0.2201 - accuracy: 0.9213\n",
      "Epoch 23/40\n",
      "22/22 [==============================] - 1s 50ms/step - loss: 0.2142 - accuracy: 0.9185\n",
      "Epoch 24/40\n",
      "22/22 [==============================] - 1s 53ms/step - loss: 0.2091 - accuracy: 0.9269\n",
      "Epoch 25/40\n",
      "22/22 [==============================] - 1s 50ms/step - loss: 0.2210 - accuracy: 0.9102\n",
      "Epoch 26/40\n",
      "22/22 [==============================] - 1s 50ms/step - loss: 0.1665 - accuracy: 0.9435\n",
      "Epoch 27/40\n",
      "22/22 [==============================] - 1s 51ms/step - loss: 0.1694 - accuracy: 0.9398\n",
      "Epoch 28/40\n",
      "22/22 [==============================] - 1s 51ms/step - loss: 0.1357 - accuracy: 0.9537\n",
      "Epoch 29/40\n",
      "22/22 [==============================] - 1s 51ms/step - loss: 0.1432 - accuracy: 0.9491\n",
      "Epoch 30/40\n",
      "22/22 [==============================] - 1s 51ms/step - loss: 0.1421 - accuracy: 0.9500\n",
      "Epoch 31/40\n",
      "22/22 [==============================] - 1s 53ms/step - loss: 0.1411 - accuracy: 0.9537\n",
      "Epoch 32/40\n",
      "22/22 [==============================] - 1s 53ms/step - loss: 0.1227 - accuracy: 0.9546\n",
      "Epoch 33/40\n",
      "22/22 [==============================] - 1s 56ms/step - loss: 0.1388 - accuracy: 0.9546\n",
      "Epoch 34/40\n",
      "22/22 [==============================] - 1s 57ms/step - loss: 0.1273 - accuracy: 0.9574\n",
      "Epoch 35/40\n",
      "22/22 [==============================] - 1s 54ms/step - loss: 0.1314 - accuracy: 0.9463\n",
      "Epoch 36/40\n",
      "22/22 [==============================] - 1s 55ms/step - loss: 0.1321 - accuracy: 0.9519\n",
      "Epoch 37/40\n",
      "22/22 [==============================] - 1s 54ms/step - loss: 0.1282 - accuracy: 0.9565\n",
      "Epoch 38/40\n",
      "22/22 [==============================] - 1s 54ms/step - loss: 0.1000 - accuracy: 0.9704\n",
      "Epoch 39/40\n",
      "22/22 [==============================] - 1s 54ms/step - loss: 0.1061 - accuracy: 0.9620\n",
      "Epoch 40/40\n",
      "22/22 [==============================] - 1s 53ms/step - loss: 0.1021 - accuracy: 0.9676\n"
     ]
    },
    {
     "data": {
      "text/plain": [
       "<tensorflow.python.keras.callbacks.History at 0x20ef78ff3c8>"
      ]
     },
     "execution_count": 24,
     "metadata": {},
     "output_type": "execute_result"
    }
   ],
   "source": [
    "model.fit(X_train,y_train,epochs=40,batch_size=50)"
   ]
  },
  {
   "cell_type": "code",
   "execution_count": 25,
   "metadata": {},
   "outputs": [
    {
     "name": "stdout",
     "output_type": "stream",
     "text": [
      "4/4 [==============================] - 0s 9ms/step - loss: 0.1946 - accuracy: 0.9417\n",
      "Loss: 0.1946456879377365\n",
      "Test Accuracy is:0.9416666626930237\n"
     ]
    }
   ],
   "source": [
    "preds = model.evaluate(X_test,y_test,batch_size = 32,verbose = 1,sample_weight = None)\n",
    "print(\"Loss:\",preds[0])\n",
    "print(\"Test Accuracy is:\"+str(preds[1]))"
   ]
  },
  {
   "cell_type": "code",
   "execution_count": 26,
   "metadata": {},
   "outputs": [
    {
     "name": "stdout",
     "output_type": "stream",
     "text": [
      "Model: \"sign_model\"\n",
      "_________________________________________________________________\n",
      "Layer (type)                 Output Shape              Param #   \n",
      "=================================================================\n",
      "input_2 (InputLayer)         [(None, 64, 64, 3)]       0         \n",
      "_________________________________________________________________\n",
      "zero_padding2d_1 (ZeroPaddin (None, 70, 70, 3)         0         \n",
      "_________________________________________________________________\n",
      "conv2d_3 (Conv2D)            (None, 32, 32, 1)         193       \n",
      "_________________________________________________________________\n",
      "batch_normalization_3 (Batch (None, 32, 32, 1)         4         \n",
      "_________________________________________________________________\n",
      "activation_3 (Activation)    (None, 32, 32, 1)         0         \n",
      "_________________________________________________________________\n",
      "conv2d_4 (Conv2D)            (None, 28, 28, 16)        416       \n",
      "_________________________________________________________________\n",
      "batch_normalization_4 (Batch (None, 28, 28, 16)        64        \n",
      "_________________________________________________________________\n",
      "activation_4 (Activation)    (None, 28, 28, 16)        0         \n",
      "_________________________________________________________________\n",
      "average_pooling2d_2 (Average (None, 14, 14, 16)        0         \n",
      "_________________________________________________________________\n",
      "conv2d_5 (Conv2D)            (None, 10, 10, 16)        6416      \n",
      "_________________________________________________________________\n",
      "batch_normalization_5 (Batch (None, 10, 10, 16)        64        \n",
      "_________________________________________________________________\n",
      "activation_5 (Activation)    (None, 10, 10, 16)        0         \n",
      "_________________________________________________________________\n",
      "average_pooling2d_3 (Average (None, 5, 5, 16)          0         \n",
      "_________________________________________________________________\n",
      "flatten_1 (Flatten)          (None, 400)               0         \n",
      "_________________________________________________________________\n",
      "dropout_1 (Dropout)          (None, 400)               0         \n",
      "_________________________________________________________________\n",
      "dense_3 (Dense)              (None, 120)               48120     \n",
      "_________________________________________________________________\n",
      "dense_4 (Dense)              (None, 84)                10164     \n",
      "_________________________________________________________________\n",
      "dense_5 (Dense)              (None, 6)                 510       \n",
      "=================================================================\n",
      "Total params: 65,951\n",
      "Trainable params: 65,885\n",
      "Non-trainable params: 66\n",
      "_________________________________________________________________\n"
     ]
    }
   ],
   "source": [
    "model.summary()"
   ]
  },
  {
   "cell_type": "code",
   "execution_count": null,
   "metadata": {},
   "outputs": [],
   "source": []
  }
 ],
 "metadata": {
  "kernelspec": {
   "display_name": "Python 3",
   "language": "python",
   "name": "python3"
  },
  "language_info": {
   "codemirror_mode": {
    "name": "ipython",
    "version": 3
   },
   "file_extension": ".py",
   "mimetype": "text/x-python",
   "name": "python",
   "nbconvert_exporter": "python",
   "pygments_lexer": "ipython3",
   "version": "3.7.7"
  }
 },
 "nbformat": 4,
 "nbformat_minor": 4
}
